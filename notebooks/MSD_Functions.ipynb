{
 "cells": [
  {
   "cell_type": "code",
   "execution_count": null,
   "id": "c9eeced6",
   "metadata": {},
   "outputs": [],
   "source": [
    "import tarfile\n",
    "import h5py\n",
    "import pandas as pd\n",
    "import os"
   ]
  },
  {
   "cell_type": "code",
   "execution_count": null,
   "id": "21592d55",
   "metadata": {},
   "outputs": [],
   "source": [
    "# Unzipped MSD subset\n",
    "tar = tarfile.open(\"millionsongsubset.tar.gz\")\n",
    "tar_members = tar.getmembers()\n",
    "\n",
    "# Print the names of the files in the archive\n",
    "#for member in tar_members:\n",
    "    #print(member.name)\n",
    "\n",
    "tar.close()"
   ]
  },
  {
   "cell_type": "code",
   "execution_count": null,
   "id": "30eadd50",
   "metadata": {},
   "outputs": [],
   "source": [
    "# Exploring MSD subset\n",
    "filename = \"MillionSongSubset/B/G/M/TRBGMWQ12903CC23CD.h5\"\n",
    "\n",
    "with h5py.File(filename, \"r\") as f:\n",
    "    # Dictionaries per each song\n",
    "    dict_song_keys = list(f.keys())\n",
    "    # Access the metadata for each the song\n",
    "    metadata = f[\"metadata\"]\n",
    "    metadata_keys = list(metadata.keys())\n",
    "    # Access the audio data (Analysis from audio data)\n",
    "    analysis = f[\"analysis\"]\n",
    "    analysis_keys = list(analysis.keys())\n",
    "    # Access to musicbrainz\n",
    "    musicbrainz = f[\"musicbrainz\"]\n",
    "    musicbrainz_keys = list(musicbrainz.keys())\n",
    "\n",
    "print(dict_song_keys)"
   ]
  },
  {
   "cell_type": "code",
   "execution_count": null,
   "id": "4616fb68",
   "metadata": {},
   "outputs": [],
   "source": [
    "# Choose main dictionary between: \"metadata\", \"analysis\" or \"musicbrainz\"\n",
    "def parsing_h5file(file_name, main_dictionary):\n",
    "    with h5py.File(file_name, \"r\") as f:\n",
    "        data_group = f[main_dictionary]\n",
    "\n",
    "        # Create a dictionary for each key with all data contained by the song\n",
    "        data_dict = {}\n",
    "        for key in data_group.keys():\n",
    "            data_dict[key] = data_group[key][()]\n",
    "\n",
    "    return data_dict"
   ]
  },
  {
   "cell_type": "markdown",
   "id": "ebf43a14",
   "metadata": {},
   "source": [
    "### Getting features for one song"
   ]
  },
  {
   "cell_type": "code",
   "execution_count": null,
   "id": "4d64336a",
   "metadata": {},
   "outputs": [],
   "source": [
    "# Open the HDF5 file containing the metadata\n",
    "file_name = \"MillionSongSubset/B/G/M/TRBGMWQ12903CC23CD.h5\"\n",
    "# Getting features from metadata\n",
    "metadata_dict = parsing_h5file(file_name, \"metadata\")\n",
    "print(metadata_dict.keys())"
   ]
  },
  {
   "cell_type": "code",
   "execution_count": null,
   "id": "4d89c5e2",
   "metadata": {},
   "outputs": [],
   "source": [
    "# Getting features from analysis\n",
    "analysis_dict = parsing_h5file(file_name, \"analysis\")\n",
    "print(analysis_dict.keys())"
   ]
  },
  {
   "cell_type": "code",
   "execution_count": null,
   "id": "4e9a861a",
   "metadata": {},
   "outputs": [],
   "source": [
    "# Getting features from musicbrainz\n",
    "musicbrainz_dict = parsing_h5file(file_name, \"musicbrainz\")\n",
    "print(musicbrainz_dict.keys())"
   ]
  },
  {
   "cell_type": "markdown",
   "id": "1bfa1fd4",
   "metadata": {},
   "source": [
    "### Getting features for several songs located in same main folder"
   ]
  },
  {
   "cell_type": "code",
   "execution_count": null,
   "id": "6ed28d28",
   "metadata": {},
   "outputs": [],
   "source": [
    "# Parsing several songs  \n",
    "def parsing_h5files(path_to_files, main_dictionary):\n",
    "    list_of_filenames = [os.path.join(path_to_files, f) for f in os.listdir(path_to_files) if f.endswith(\".h5\")]\n",
    "\n",
    "    # Create an empty DataFrame to store the data\n",
    "    data =[]\n",
    "\n",
    "    # Loop over the HDF5 files\n",
    "    for filename in list_of_filenames:\n",
    "        with h5py.File(filename, \"r\") as f:\n",
    "            data_group = f[main_dictionary]\n",
    "\n",
    "            # Create a dictionary for each key \n",
    "            data_dict = {}\n",
    "            for key in data_group.keys():\n",
    "                data_dict[key] = data_group[key][()]\n",
    "\n",
    "            # Append data_dict to data\n",
    "            data.append(data_dict)\n",
    "            \n",
    "    # Covert to dataframe\n",
    "    column_names = list(data_dict.keys())\n",
    "    df = pd.DataFrame(data, columns=column_names)\n",
    "    \n",
    "    return df"
   ]
  },
  {
   "cell_type": "code",
   "execution_count": null,
   "id": "6c06cc52",
   "metadata": {},
   "outputs": [],
   "source": [
    "# Actual file path main folder\n",
    "path_to_files = \"MillionSongSubset/B/G/K/\"\n",
    "metadata_df = parsing_h5files(path_to_files, \"metadata\")\n",
    "#display(metadata_df)"
   ]
  },
  {
   "cell_type": "markdown",
   "id": "936cd7d8",
   "metadata": {},
   "source": [
    "### Getting features for all songs"
   ]
  },
  {
   "cell_type": "code",
   "execution_count": null,
   "id": "984df96f",
   "metadata": {},
   "outputs": [],
   "source": [
    "# Function to retrieve info from all files in MillionSongSubset\n",
    "def parsing_h5files(dataset_name, main_dictionary):\n",
    "    data = []\n",
    "    rootdir = dataset_name # Path to the dataset\n",
    "    for subdir, dirs, files in os.walk(rootdir):\n",
    "        for file in files:\n",
    "            if file.endswith('.h5'):\n",
    "                filename = os.path.join(subdir, file)\n",
    "                with h5py.File(filename, 'r') as f:\n",
    "                    data_group = f[main_dictionary]\n",
    "\n",
    "                    # Create a dictionary for each key with all data contained by the song\n",
    "                    data_dict = {}\n",
    "                    for key in data_group.keys():\n",
    "                        data_dict[key] = data_group[key][()]\n",
    "                                                     \n",
    "                    data.append(data_dict)\n",
    "                    \n",
    "    # Covert to dataframe\n",
    "    column_names = list(data_dict.keys())\n",
    "    df = pd.DataFrame(data, columns=column_names)\n",
    "    \n",
    "    return df"
   ]
  },
  {
   "cell_type": "code",
   "execution_count": null,
   "id": "de6ea26f",
   "metadata": {},
   "outputs": [],
   "source": [
    "# Retrieving features for all songs\n",
    "dataset_name = 'MillionSongSubset'\n",
    "metadata_df = parsing_h5files(dataset_name, \"metadata\")\n",
    "#print(metadata_df.head())"
   ]
  }
 ],
 "metadata": {
  "kernelspec": {
   "display_name": "Python 3 (ipykernel)",
   "language": "python",
   "name": "python3"
  },
  "language_info": {
   "codemirror_mode": {
    "name": "ipython",
    "version": 3
   },
   "file_extension": ".py",
   "mimetype": "text/x-python",
   "name": "python",
   "nbconvert_exporter": "python",
   "pygments_lexer": "ipython3",
   "version": "3.11.0"
  }
 },
 "nbformat": 4,
 "nbformat_minor": 5
}
