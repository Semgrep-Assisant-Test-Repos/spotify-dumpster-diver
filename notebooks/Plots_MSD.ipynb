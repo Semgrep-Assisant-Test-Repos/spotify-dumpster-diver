{
 "cells": [
  {
   "cell_type": "code",
   "execution_count": null,
   "id": "9bfa92e7",
   "metadata": {},
   "outputs": [],
   "source": [
    "import pandas as pd\n",
    "import os\n",
    "import matplotlib.pyplot as plt\n",
    "import numpy as np\n",
    "from scipy.stats import linregress\n",
    "import plotly.express as px"
   ]
  },
  {
   "cell_type": "code",
   "execution_count": null,
   "id": "47c4c844",
   "metadata": {},
   "outputs": [],
   "source": [
    "# Reading MSD dataframe\n",
    "df = pd.read_pickle(\"msd.pkl\")"
   ]
  },
  {
   "cell_type": "code",
   "execution_count": null,
   "id": "fa38c181",
   "metadata": {},
   "outputs": [],
   "source": [
    "# Dropping O's and null values\n",
    "# Rename pitch_network_entropy to entropy\n",
    "df = df.rename(columns={'pitch_network_entropy': 'entropy'})\n",
    "# Funtion to drop 0's\n",
    "def dropZero(feature, df):\n",
    "    df_noZero = df[(df[feature] != 0)]\n",
    "    return df_noZero"
   ]
  },
  {
   "cell_type": "code",
   "execution_count": null,
   "id": "e6f82c47",
   "metadata": {},
   "outputs": [],
   "source": [
    "# Plotting numerical data\n",
    "feature_list = ['artist_familiarity', 'artist_hotttnesss', 'tempo', 'loudness', 'year', 'entropy', 'timbre_00', 'timbre_11']\n",
    "\n",
    "# Dropping 0's and null values\n",
    "for feature in feature_list:\n",
    "    df = dropZero(feature, df)\n",
    "    df.dropna(subset=[feature], inplace=True)\n",
    "\n",
    "# define the color feature\n",
    "color_feature = 'song_hotttnesss'"
   ]
  },
  {
   "cell_type": "code",
   "execution_count": null,
   "id": "b141f2a9",
   "metadata": {},
   "outputs": [],
   "source": [
    "# Plotting numerical data, dark background\n",
    "fig = px.scatter_matrix(df, dimensions=feature_list, template=\"plotly_dark\", color=color_feature, labels={col: col.replace('_', ' ').title() for col in feature_list},\n",
    "                        height=1100, width=1100)\n",
    "fig.show()"
   ]
  },
  {
   "cell_type": "code",
   "execution_count": null,
   "id": "8eb43c2b",
   "metadata": {},
   "outputs": [],
   "source": [
    "# Plotting numerical data, white background\n",
    "fig = px.scatter_matrix(df, dimensions=feature_list, color=color_feature, labels={col: col.replace('_', ' ').title() for col in feature_list},\n",
    "                        height=1100, width=1100)\n",
    "fig.show()"
   ]
  },
  {
   "cell_type": "code",
   "execution_count": null,
   "id": "3584bc56",
   "metadata": {},
   "outputs": [],
   "source": [
    "# Dataframe for numerical features, dropping energy and danceability since values are all 0's\n",
    "df = df.drop('energy', axis=1)\n",
    "df = df.drop('danceability', axis=1)\n",
    "\n",
    "allfeature_list = df.columns\n",
    "# Dropping 0's and null values\n",
    "for feature in allfeature_list:\n",
    "    df = dropZero(feature, df)\n",
    "    df.dropna(subset=[feature], inplace=True)    "
   ]
  },
  {
   "cell_type": "markdown",
   "id": "7c1f2bc3",
   "metadata": {},
   "source": [
    "## Histograms"
   ]
  },
  {
   "cell_type": "code",
   "execution_count": null,
   "id": "86a617f3",
   "metadata": {},
   "outputs": [],
   "source": [
    "fig = px.histogram(df, x='artist_familiarity', color='year',  nbins=85, height=700, width=700)\n",
    "fig.show()"
   ]
  },
  {
   "cell_type": "code",
   "execution_count": null,
   "id": "f0fcc2a0",
   "metadata": {},
   "outputs": [],
   "source": [
    "fig = px.histogram(df, x='song_hotttnesss', color='year',  nbins=85, height=700, width=700)\n",
    "fig.show()"
   ]
  },
  {
   "cell_type": "code",
   "execution_count": null,
   "id": "5ab75b6f",
   "metadata": {},
   "outputs": [],
   "source": [
    "fig = px.histogram(df, x='song_hotttnesss', template=\"plotly_dark\", color='year',  nbins=85, height=700, width=700)\n",
    "fig.show()"
   ]
  },
  {
   "cell_type": "code",
   "execution_count": null,
   "id": "0f41a801",
   "metadata": {},
   "outputs": [],
   "source": [
    "fig = px.histogram(df, x='tempo', color='year',  nbins=85, height=700, width=700)\n",
    "fig.show()"
   ]
  },
  {
   "cell_type": "code",
   "execution_count": null,
   "id": "fe79da9f",
   "metadata": {},
   "outputs": [],
   "source": [
    "fig = px.histogram(df, x='tempo', color='year', template=\"plotly_dark\", nbins=85, height=700, width=700)\n",
    "fig.show()"
   ]
  },
  {
   "cell_type": "code",
   "execution_count": null,
   "id": "b96398ef",
   "metadata": {},
   "outputs": [],
   "source": [
    "fig = px.histogram(df, x='timbre_01', color='year',  nbins=85, height=700, width=700)\n",
    "fig.show()"
   ]
  },
  {
   "cell_type": "code",
   "execution_count": null,
   "id": "944e0429",
   "metadata": {},
   "outputs": [],
   "source": [
    "# Sort unique year values alphabetically\n",
    "year_order = sorted(df['year'].unique())\n",
    "print(year_order)\n",
    "\n",
    "fig = px.histogram(df, \n",
    "                   x='artist_familiarity', \n",
    "                   color='year', \n",
    "                   nbins=85, \n",
    "                   template=\"plotly_dark\",\n",
    "                   height=700, \n",
    "                   width=700,\n",
    "                   category_orders={'color': year_order})\n",
    "\n",
    "fig.show()"
   ]
  },
  {
   "cell_type": "code",
   "execution_count": null,
   "id": "37080d2d",
   "metadata": {},
   "outputs": [],
   "source": [
    "# Histogramns for timbre\n",
    "# define the number of rows and columns in the subplot grid WHITE bg\n",
    "num_cols = 4\n",
    "num_rows = 3\n",
    "\n",
    "# List of columns\n",
    "col_list = list(enumerate(df[['timbre_00', 'timbre_01',\n",
    "   'timbre_02', 'timbre_03', 'timbre_04', 'timbre_05', 'timbre_06',\n",
    "   'timbre_07', 'timbre_08', 'timbre_09', 'timbre_10', 'timbre_11']]))\n",
    "\n",
    "# define the figure size\n",
    "fig, axes = plt.subplots(num_rows, num_cols, figsize=(15, 10))\n",
    "\n",
    "# define the colors to use for each histogram\n",
    "colors = ['red', 'blue', 'green', 'orange', 'purple', 'brown', 'gray', 'pink', 'olive', 'teal', 'navy', 'maroon']\n",
    "\n",
    "# loop through each column and plot a histogram in the corresponding subplot\n",
    "for i, column in col_list:\n",
    "    row = i // num_cols\n",
    "    col = i % num_cols\n",
    "    ax = axes[row, col]\n",
    "    ax.hist(df[column], bins=50, color=colors[i])\n",
    "    ax.set_title(column)\n",
    "    plt.tight_layout()\n",
    "\n",
    "#plt.show()\n",
    "# save the plot as a PNG file\n",
    "plt.savefig('histogram_white.png')"
   ]
  },
  {
   "cell_type": "code",
   "execution_count": null,
   "id": "745aca8d",
   "metadata": {},
   "outputs": [],
   "source": [
    "# define the number of rows and columns in the subplot grid.   Dark bg\n",
    "num_cols = 4\n",
    "num_rows = 3\n",
    "\n",
    "# List of columns\n",
    "col_list = list(enumerate(df[['timbre_00', 'timbre_01',\n",
    "   'timbre_02', 'timbre_03', 'timbre_04', 'timbre_05', 'timbre_06',\n",
    "   'timbre_07', 'timbre_08', 'timbre_09', 'timbre_10', 'timbre_11']]))\n",
    "\n",
    "# define the figure size\n",
    "fig, axes = plt.subplots(num_rows, num_cols, figsize=(15, 10))\n",
    "\n",
    "# define the colors to use for each histogram\n",
    "colors = ['red', 'blue', 'green', 'orange', 'purple', 'brown', 'gray', 'pink', 'olive', 'teal', 'navy', 'maroon']\n",
    "\n",
    "# loop through each column and plot a histogram in the corresponding subplot\n",
    "for i, column in col_list:\n",
    "    row = i // num_cols\n",
    "    col = i % num_cols\n",
    "    ax = axes[row, col]\n",
    "    ax.hist(df[column], bins=25, color=colors[i], alpha=0.7, label=column, density=True, histtype='stepfilled', linewidth=1.5, edgecolor='black', linestyle='--')\n",
    "    ax.set_title(column)\n",
    "    ax.set_facecolor('#2C2F33')\n",
    "    ax.grid(color='white', linestyle=':', axis='y')\n",
    "    ax.legend()\n",
    "\n",
    "plt.tight_layout()\n",
    "\n",
    "# save the plot as a PNG file\n",
    "plt.savefig('histogram_dark.png')"
   ]
  },
  {
   "cell_type": "code",
   "execution_count": null,
   "id": "dfde310b",
   "metadata": {},
   "outputs": [],
   "source": [
    "def scatter_plot(feature1, feature2):\n",
    "    # Define x and y variables\n",
    "    x = df[feature1]\n",
    "    y = df[feature2]\n",
    "    c = df['song_hotttnesss']\n",
    "\n",
    "    # Create scatter plot with color gradient based on song_hotttnesss\n",
    "    plt.scatter(x, y, c=c, cmap='coolwarm')\n",
    "    \n",
    "    # add colorbar\n",
    "    cbar = plt.colorbar()\n",
    "    cbar.ax.set_ylabel('Song Hotttness')\n",
    "\n",
    "    # add labels and title\n",
    "    plt.xlabel(feature1)\n",
    "    plt.ylabel(feature2)\n",
    "    plt.title('Scatter Plot with Color Map')\n",
    "\n",
    "    # Calculate the regression line\n",
    "    slope, intercept, r_value, p_value, std_err = linregress(x, y)\n",
    "\n",
    "    # calculate correlation coefficient\n",
    "    corr_coef = np.corrcoef(x, y)[0, 1]\n",
    "\n",
    "    # add text to plot\n",
    "    plt.title(f\"Correlation Coefficient: {corr_coef:.2f}\")\n",
    "\n",
    "    # Add regression line\n",
    "    plt.plot(x, slope*x + intercept, 'r', label='fitted line')\n",
    "\n",
    "    # Add legend\n",
    "    plt.legend()\n",
    "\n",
    "    # show the plot\n",
    "    plt.show()\n",
    "    \n",
    "scatter_plot('artist_familiarity', 'artist_hotttnesss')"
   ]
  },
  {
   "cell_type": "code",
   "execution_count": null,
   "id": "b6b42749",
   "metadata": {},
   "outputs": [],
   "source": [
    "scatter_plot('timbre_00', 'loudness')"
   ]
  },
  {
   "cell_type": "code",
   "execution_count": null,
   "id": "502cf531",
   "metadata": {},
   "outputs": [],
   "source": [
    "scatter_plot('timbre_00', 'entropy')"
   ]
  },
  {
   "cell_type": "code",
   "execution_count": null,
   "id": "822a60b9",
   "metadata": {},
   "outputs": [],
   "source": [
    "scatter_plot('entropy', 'loudness')"
   ]
  },
  {
   "cell_type": "code",
   "execution_count": null,
   "id": "47ecd735",
   "metadata": {},
   "outputs": [],
   "source": []
  }
 ],
 "metadata": {
  "kernelspec": {
   "display_name": "Python 3 (ipykernel)",
   "language": "python",
   "name": "python3"
  },
  "language_info": {
   "codemirror_mode": {
    "name": "ipython",
    "version": 3
   },
   "file_extension": ".py",
   "mimetype": "text/x-python",
   "name": "python",
   "nbconvert_exporter": "python",
   "pygments_lexer": "ipython3",
   "version": "3.11.0"
  }
 },
 "nbformat": 4,
 "nbformat_minor": 5
}
