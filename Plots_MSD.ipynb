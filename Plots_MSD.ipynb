{
 "cells": [
  {
   "cell_type": "code",
   "execution_count": null,
   "id": "9bfa92e7",
   "metadata": {},
   "outputs": [],
   "source": [
    "import pandas as pd\n",
    "import os\n",
    "import matplotlib.pyplot as plt\n",
    "import numpy as np\n",
    "from scipy.stats import linregress\n",
    "import plotly.express as px"
   ]
  },
  {
   "cell_type": "code",
   "execution_count": null,
   "id": "47c4c844",
   "metadata": {},
   "outputs": [],
   "source": [
    "df = pd.read_pickle(\"msd.pkl\")"
   ]
  },
  {
   "cell_type": "code",
   "execution_count": null,
   "id": "e6f82c47",
   "metadata": {},
   "outputs": [],
   "source": [
    "# Plotting numerical data\n",
    "feature_list = ['artist_familiarity','song_hotttnesss', 'artist_hotttnesss', 'tempo', 'loudness', 'year']\n",
    "\n",
    "# Funtion to drop 0's\n",
    "def dropZero(feature, df):\n",
    "    df_noZero = df[(df[feature] != 0)]\n",
    "    return df_noZero\n",
    "\n",
    "# Dropping 0's and null values\n",
    "for feature in feature_list:\n",
    "    df = dropZero(feature, df)\n",
    "    df.dropna(subset=[feature], inplace=True)\n",
    "\n",
    "# define the color feature\n",
    "color_feature = 'song_hotttnesss'"
   ]
  },
  {
   "cell_type": "code",
   "execution_count": null,
   "id": "b141f2a9",
   "metadata": {},
   "outputs": [],
   "source": [
    "# Plotting numerical data, dark background\n",
    "fig = px.scatter_matrix(df, dimensions=feature_list, template=\"plotly_dark\", color=color_feature, labels={col: col.replace('_', ' ').title() for col in feature_list},\n",
    "                        height=1000, width=1000)\n",
    "fig.show()"
   ]
  },
  {
   "cell_type": "code",
   "execution_count": null,
   "id": "8eb43c2b",
   "metadata": {},
   "outputs": [],
   "source": [
    "# Plotting numerical data, white background\n",
    "fig = px.scatter_matrix(df, dimensions=feature_list, color=color_feature, labels={col: col.replace('_', ' ').title() for col in feature_list},\n",
    "                        height=1000, width=1000)\n",
    "fig.show()"
   ]
  },
  {
   "cell_type": "code",
   "execution_count": null,
   "id": "86a617f3",
   "metadata": {},
   "outputs": [],
   "source": []
  }
 ],
 "metadata": {
  "kernelspec": {
   "display_name": "Python 3 (ipykernel)",
   "language": "python",
   "name": "python3"
  },
  "language_info": {
   "codemirror_mode": {
    "name": "ipython",
    "version": 3
   },
   "file_extension": ".py",
   "mimetype": "text/x-python",
   "name": "python",
   "nbconvert_exporter": "python",
   "pygments_lexer": "ipython3",
   "version": "3.11.0"
  }
 },
 "nbformat": 4,
 "nbformat_minor": 5
}
